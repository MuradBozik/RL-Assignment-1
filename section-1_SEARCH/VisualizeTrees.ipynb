{
 "cells": [
  {
   "cell_type": "code",
   "execution_count": 1,
   "metadata": {},
   "outputs": [],
   "source": [
    "import numpy as np\n",
    "from hex_skeleton import HexBoard, Hex\n",
    "from util import UTIL\n",
    "import uuid\n",
    "from collections import deque"
   ]
  },
  {
   "cell_type": "markdown",
   "metadata": {},
   "source": [
    "### Board State 1"
   ]
  },
  {
   "cell_type": "code",
   "execution_count": 9,
   "metadata": {},
   "outputs": [
    {
     "name": "stdout",
     "output_type": "stream",
     "text": [
      "   a b c \n",
      " -----------------------\n",
      "0 |- - - |\n",
      "1 | - - - |\n",
      "2 |  - - - |\n",
      "   -----------------------\n"
     ]
    }
   ],
   "source": [
    "boardSize = 3\n",
    "h1 = HexBoard(boardSize)\n",
    "h1.maximizer = h1.RED\n",
    "h1.minimizer = h1.BLUE\n",
    "\n",
    "u1 = UTIL(infinity=99, maximizer=h1.maximizer, minimizer=h1.minimizer)\n",
    "\n",
    "node_id = str(uuid.uuid4())\n",
    "node = {'id': node_id, 'type': 'MAX', 'children': [], 'searched': False, 'value':None, \\\n",
    "        'parent_type':'MAX', 'board': h1.board, 'name': node_id[-3:]}\n",
    "h1.print()"
   ]
  },
  {
   "cell_type": "code",
   "execution_count": 10,
   "metadata": {},
   "outputs": [
    {
     "name": "stdout",
     "output_type": "stream",
     "text": [
      "   a b c \n",
      " -----------------------\n",
      "0 |- r - |\n",
      "1 | r b r |\n",
      "2 |  b b - |\n",
      "   -----------------------\n"
     ]
    }
   ],
   "source": [
    "h1.place((0,1), h1.RED)\n",
    "h1.place((1,0), h1.RED)\n",
    "h1.place((1,2), h1.RED)\n",
    "h1.place((1,1), h1.BLUE)\n",
    "h1.place((2,0), h1.BLUE)\n",
    "h1.place((2,1), h1.BLUE)\n",
    "h1.print()"
   ]
  },
  {
   "cell_type": "code",
   "execution_count": 8,
   "metadata": {},
   "outputs": [],
   "source": [
    "# This line updates root node\n",
    "best_value = u1.alphaBetaSearch(node, 2, -99, 99, isMaximizer=True)\n",
    "# This line automatically creates Tree representation and saves it\n",
    "u1.visualizeTree(node, 'Tree-1')"
   ]
  },
  {
   "cell_type": "markdown",
   "metadata": {},
   "source": [
    "### Board State 2"
   ]
  },
  {
   "cell_type": "code",
   "execution_count": 14,
   "metadata": {},
   "outputs": [
    {
     "name": "stdout",
     "output_type": "stream",
     "text": [
      "   a b c \n",
      " -----------------------\n",
      "0 |- - - |\n",
      "1 | - - - |\n",
      "2 |  - - - |\n",
      "   -----------------------\n"
     ]
    }
   ],
   "source": [
    "boardSize = 3\n",
    "h2 = HexBoard(boardSize)\n",
    "h2.maximizer = h2.RED\n",
    "h2.minimizer = h2.BLUE\n",
    "\n",
    "u2 = UTIL(infinity=99, maximizer=h2.maximizer, minimizer=h2.minimizer)\n",
    "\n",
    "node_id = str(uuid.uuid4())\n",
    "node = {'id': node_id, 'type': 'MAX', 'children': [], 'searched': False, 'value':None, \\\n",
    "        'parent_type':'MAX', 'board': h2.board, 'name': node_id[-3:]}\n",
    "h2.print()"
   ]
  },
  {
   "cell_type": "code",
   "execution_count": 15,
   "metadata": {},
   "outputs": [
    {
     "name": "stdout",
     "output_type": "stream",
     "text": [
      "   a b c \n",
      " -----------------------\n",
      "0 |- r - |\n",
      "1 | b r r |\n",
      "2 |  b - b |\n",
      "   -----------------------\n"
     ]
    }
   ],
   "source": [
    "h2.place((0,1), h2.RED)\n",
    "h2.place((1,1), h2.RED)\n",
    "h2.place((1,2), h2.RED)\n",
    "h2.place((1,0), h2.BLUE)\n",
    "h2.place((2,0), h2.BLUE)\n",
    "h2.place((2,2), h2.BLUE)\n",
    "h2.print()"
   ]
  },
  {
   "cell_type": "code",
   "execution_count": 16,
   "metadata": {},
   "outputs": [],
   "source": [
    "# This line updates root node\n",
    "best_value = u2.alphaBetaSearch(node, 2, -99, 99, isMaximizer=True)\n",
    "# This line automatically creates Tree representation and saves it\n",
    "u2.visualizeTree(node, 'Tree-2')"
   ]
  },
  {
   "cell_type": "markdown",
   "metadata": {},
   "source": [
    "### Board State 3"
   ]
  },
  {
   "cell_type": "code",
   "execution_count": 19,
   "metadata": {},
   "outputs": [
    {
     "name": "stdout",
     "output_type": "stream",
     "text": [
      "   a b \n",
      " -----------------------\n",
      "0 |- - |\n",
      "1 | - - |\n",
      "   -----------------------\n"
     ]
    }
   ],
   "source": [
    "boardSize = 2\n",
    "h3 = HexBoard(boardSize)\n",
    "h3.maximizer = h3.RED\n",
    "h3.minimizer = h3.BLUE\n",
    "\n",
    "u3 = UTIL(infinity=99, maximizer=h3.maximizer, minimizer=h3.minimizer)\n",
    "\n",
    "node_id = str(uuid.uuid4())\n",
    "node = {'id': node_id, 'type': 'MAX', 'children': [], 'searched': False, 'value':None, \\\n",
    "        'parent_type':'MAX', 'board': h3.board, 'name': node_id[-3:]}\n",
    "h3.print()"
   ]
  },
  {
   "cell_type": "code",
   "execution_count": 20,
   "metadata": {},
   "outputs": [],
   "source": [
    "# This line updates root node\n",
    "best_value = u2.alphaBetaSearch(node, 2, -99, 99, isMaximizer=True)\n",
    "# This line automatically creates Tree representation and saves it\n",
    "u2.visualizeTree(node, 'Tree-3')"
   ]
  },
  {
   "cell_type": "code",
   "execution_count": null,
   "metadata": {},
   "outputs": [],
   "source": []
  }
 ],
 "metadata": {
  "kernelspec": {
   "display_name": "Python 3",
   "language": "python",
   "name": "python3"
  },
  "language_info": {
   "codemirror_mode": {
    "name": "ipython",
    "version": 3
   },
   "file_extension": ".py",
   "mimetype": "text/x-python",
   "name": "python",
   "nbconvert_exporter": "python",
   "pygments_lexer": "ipython3",
   "version": "3.7.4"
  }
 },
 "nbformat": 4,
 "nbformat_minor": 4
}
