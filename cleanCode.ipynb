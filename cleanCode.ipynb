{
 "cells": [
  {
   "cell_type": "code",
   "execution_count": 1,
   "metadata": {},
   "outputs": [],
   "source": [
    "import numpy as np\n",
    "from hex_skeleton import HexBoard, Hex\n",
    "from util import UTIL\n",
    "import uuid\n",
    "from collections import deque"
   ]
  },
  {
   "cell_type": "code",
   "execution_count": 2,
   "metadata": {},
   "outputs": [],
   "source": [
    "boardSize = 3\n",
    "h = HexBoard(boardSize)\n",
    "h.maximizer = h.RED\n",
    "h.minimizer = h.BLUE\n",
    "\n",
    "u = UTIL(infinity=99, maximizer=h.maximizer, minimizer=h.minimizer)\n",
    "\n",
    "node_id = str(uuid.uuid4())\n",
    "node = {'id':node_id, 'type':'MAX', 'children':[], 'searched':False, 'board': h.board, 'name':node_id[-3:]}"
   ]
  },
  {
   "cell_type": "code",
   "execution_count": 3,
   "metadata": {},
   "outputs": [
    {
     "name": "stdout",
     "output_type": "stream",
     "text": [
      "   a b c \n",
      " -----------------------\n",
      "0 |- - - |\n",
      "1 | - - - |\n",
      "2 |  - - - |\n",
      "   -----------------------\n"
     ]
    }
   ],
   "source": [
    "h.print()"
   ]
  },
  {
   "cell_type": "code",
   "execution_count": 4,
   "metadata": {},
   "outputs": [],
   "source": [
    "h.place((1,1), h.RED)\n",
    "h.place((1,0), h.BLUE)\n",
    "h.place((1,2), h.RED)\n",
    "h.place((2,2), h.BLUE)\n",
    "h.place((0,1), h.RED)\n",
    "h.place((2,0), h.BLUE)"
   ]
  },
  {
   "cell_type": "code",
   "execution_count": 5,
   "metadata": {},
   "outputs": [
    {
     "name": "stdout",
     "output_type": "stream",
     "text": [
      "   a b c \n",
      " -----------------------\n",
      "0 |- r - |\n",
      "1 | b r r |\n",
      "2 |  b - b |\n",
      "   -----------------------\n"
     ]
    }
   ],
   "source": [
    "h.print()"
   ]
  },
  {
   "cell_type": "code",
   "execution_count": 36,
   "metadata": {},
   "outputs": [
    {
     "data": {
      "text/plain": [
       "array([[0, 0],\n",
       "       [0, 0]])"
      ]
     },
     "execution_count": 36,
     "metadata": {},
     "output_type": "execute_result"
    }
   ],
   "source": [
    "node['board']"
   ]
  },
  {
   "cell_type": "code",
   "execution_count": null,
   "metadata": {},
   "outputs": [],
   "source": []
  },
  {
   "cell_type": "code",
   "execution_count": 34,
   "metadata": {},
   "outputs": [],
   "source": [
    "best_value = u.alphaBetaSearch(node, 2, -99, 99, isMaximizer=True)"
   ]
  },
  {
   "cell_type": "code",
   "execution_count": 35,
   "metadata": {},
   "outputs": [],
   "source": [
    "u.visualizeTree(node, 'Tree-3')"
   ]
  },
  {
   "cell_type": "code",
   "execution_count": 5,
   "metadata": {},
   "outputs": [
    {
     "data": {
      "text/plain": [
       "(0, 0)"
      ]
     },
     "execution_count": 5,
     "metadata": {},
     "output_type": "execute_result"
    }
   ],
   "source": [
    "move = u.getBestMove(node, best_value)\n",
    "move"
   ]
  },
  {
   "cell_type": "code",
   "execution_count": 53,
   "metadata": {},
   "outputs": [
    {
     "data": {
      "text/plain": [
       "99999999"
      ]
     },
     "execution_count": 53,
     "metadata": {},
     "output_type": "execute_result"
    }
   ],
   "source": [
    "h.hexes[0].distance"
   ]
  },
  {
   "cell_type": "code",
   "execution_count": 3,
   "metadata": {},
   "outputs": [
    {
     "name": "stdout",
     "output_type": "stream",
     "text": [
      "   a b c d \n",
      " -----------------------\n",
      "0 |- - - - |\n",
      "1 | - - - - |\n",
      "2 |  - - - - |\n",
      "3 |   - - - - |\n",
      "   -----------------------\n"
     ]
    }
   ],
   "source": [
    "h.print()"
   ]
  },
  {
   "cell_type": "code",
   "execution_count": 4,
   "metadata": {},
   "outputs": [
    {
     "data": {
      "text/plain": [
       "0"
      ]
     },
     "execution_count": 4,
     "metadata": {},
     "output_type": "execute_result"
    }
   ],
   "source": [
    "u.dijkstra_eval(h.board, h.RED)"
   ]
  },
  {
   "cell_type": "code",
   "execution_count": 5,
   "metadata": {},
   "outputs": [
    {
     "data": {
      "text/plain": [
       "0"
      ]
     },
     "execution_count": 5,
     "metadata": {},
     "output_type": "execute_result"
    }
   ],
   "source": [
    "u.dijkstra_eval(h.board, h.BLUE)"
   ]
  },
  {
   "cell_type": "code",
   "execution_count": 6,
   "metadata": {},
   "outputs": [],
   "source": [
    "h.place((1,0), h.RED)\n",
    "h.place((1,1), h.BLUE)\n",
    "h.place((1,2), h.RED)\n",
    "h.place((0,3), h.BLUE)\n",
    "h.place((0,1), h.RED)\n",
    "h.place((2,1), h.BLUE)\n",
    "h.place((0,0), h.RED)\n",
    "h.place((2,0), h.BLUE)"
   ]
  },
  {
   "cell_type": "code",
   "execution_count": 6,
   "metadata": {},
   "outputs": [
    {
     "name": "stdout",
     "output_type": "stream",
     "text": [
      "   a b c \n",
      " -----------------------\n",
      "0 |- r - |\n",
      "1 | b r r |\n",
      "2 |  b - b |\n",
      "   -----------------------\n"
     ]
    }
   ],
   "source": [
    "h.print()"
   ]
  },
  {
   "cell_type": "code",
   "execution_count": 8,
   "metadata": {},
   "outputs": [
    {
     "data": {
      "text/plain": [
       "-2"
      ]
     },
     "execution_count": 8,
     "metadata": {},
     "output_type": "execute_result"
    }
   ],
   "source": [
    "u.dijkstra_eval(h.board, h.RED) "
   ]
  },
  {
   "cell_type": "code",
   "execution_count": 9,
   "metadata": {},
   "outputs": [
    {
     "data": {
      "text/plain": [
       "2"
      ]
     },
     "execution_count": 9,
     "metadata": {},
     "output_type": "execute_result"
    }
   ],
   "source": [
    "u.dijkstra_eval(h.board, h.BLUE) "
   ]
  },
  {
   "cell_type": "code",
   "execution_count": 8,
   "metadata": {},
   "outputs": [],
   "source": [
    "table = {}"
   ]
  }
 ],
 "metadata": {
  "kernelspec": {
   "display_name": "Python 3",
   "language": "python",
   "name": "python3"
  },
  "language_info": {
   "codemirror_mode": {
    "name": "ipython",
    "version": 3
   },
   "file_extension": ".py",
   "mimetype": "text/x-python",
   "name": "python",
   "nbconvert_exporter": "python",
   "pygments_lexer": "ipython3",
   "version": "3.8.1"
  }
 },
 "nbformat": 4,
 "nbformat_minor": 4
}
